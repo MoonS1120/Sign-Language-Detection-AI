{
 "cells": [
  {
   "cell_type": "code",
   "execution_count": null,
   "id": "09bf4c30-ed5e-4f8d-86fc-9fa4acaedc0f",
   "metadata": {},
   "outputs": [],
   "source": [
    "pip install opencv-python mediapipe"
   ]
  },
  {
   "cell_type": "code",
   "execution_count": 2,
   "id": "a1d079ce-22e3-4550-b3bb-3452e11c316a",
   "metadata": {},
   "outputs": [],
   "source": [
    "import cv2\n",
    "import mediapipe as mp"
   ]
  },
  {
   "cell_type": "code",
   "execution_count": 3,
   "id": "99169725-7cbb-45ea-98ea-eb7d2784e2a3",
   "metadata": {},
   "outputs": [],
   "source": [
    "mp_drawing = mp.solutions.drawing_utils\n",
    "mp_hands = mp.solutions.hands"
   ]
  },
  {
   "cell_type": "code",
   "execution_count": 4,
   "id": "e795cfa1-aecf-4454-9774-fb388a20cd19",
   "metadata": {},
   "outputs": [],
   "source": [
    "def mediapipe(frame, hands):\n",
    "    frame = cv2.resize(cv2.flip(frame, 1), (640, 480))\n",
    "    image = cv2.cvtColor(frame, cv2.COLOR_BGR2RGB)\n",
    "\n",
    "    image.flags.writeable = False\n",
    "    results = hands.process(image)\n",
    "    image.flags.writeable = True\n",
    "\n",
    "    image = cv2.cvtColor(image, cv2.COLOR_RGB2BGR)\n",
    "\n",
    "    return image, results"
   ]
  },
  {
   "cell_type": "code",
   "execution_count": 5,
   "id": "fc18f9f6-da52-4a9b-8c32-59ff4b5d6391",
   "metadata": {},
   "outputs": [],
   "source": [
    "capture = cv2.VideoCapture(0)"
   ]
  },
  {
   "cell_type": "code",
   "execution_count": 6,
   "id": "38024b18-102e-498e-b5b7-26efb5b8e60c",
   "metadata": {},
   "outputs": [
    {
     "name": "stderr",
     "output_type": "stream",
     "text": [
      "WARNING: All log messages before absl::InitializeLog() is called are written to STDERR\n",
      "I0000 00:00:1700830880.462589       1 gl_context.cc:344] GL version: 2.1 (2.1 Metal - 83), renderer: Apple M1\n",
      "INFO: Created TensorFlow Lite XNNPACK delegate for CPU.\n"
     ]
    }
   ],
   "source": [
    "with mp_hands.Hands(max_num_hands=1, min_detection_confidence=0.5, min_tracking_confidence=0.5) as hands:\n",
    "    while capture.isOpened():\n",
    "        ret, frame = capture.read()\n",
    "\n",
    "        image, results = mediapipe(frame, hands)\n",
    "\n",
    "        if results.multi_hand_landmarks:\n",
    "            for hand_landmarks in results.multi_hand_landmarks:\n",
    "                mp_drawing.draw_landmarks(\n",
    "                    image, \n",
    "                    hand_landmarks, \n",
    "                    mp_hands.HAND_CONNECTIONS,\n",
    "                )\n",
    "\n",
    "        cv2.imshow(\"Hand Tracking\", image)\n",
    "\n",
    "        if cv2.waitKey(5) & 0xFF == 27:\n",
    "            break\n",
    "\n",
    "    capture.release()\n",
    "    cv2.destroyAllWindows()"
   ]
  }
 ],
 "metadata": {
  "kernelspec": {
   "display_name": "Python 3 (ipykernel)",
   "language": "python",
   "name": "python3"
  },
  "language_info": {
   "codemirror_mode": {
    "name": "ipython",
    "version": 3
   },
   "file_extension": ".py",
   "mimetype": "text/x-python",
   "name": "python",
   "nbconvert_exporter": "python",
   "pygments_lexer": "ipython3",
   "version": "3.11.3"
  }
 },
 "nbformat": 4,
 "nbformat_minor": 5
}
