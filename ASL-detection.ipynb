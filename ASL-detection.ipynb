{
 "cells": [
  {
   "cell_type": "code",
   "execution_count": null,
   "id": "09bf4c30-ed5e-4f8d-86fc-9fa4acaedc0f",
   "metadata": {},
   "outputs": [],
   "source": [
    "!pip install opencv-python mediapipe numpy pandas matplotlib seaborn tensorflow"
   ]
  },
  {
   "cell_type": "code",
   "execution_count": null,
   "id": "a1d079ce-22e3-4550-b3bb-3452e11c316a",
   "metadata": {},
   "outputs": [],
   "source": [
    "import cv2\n",
    "import mediapipe as mp"
   ]
  },
  {
   "cell_type": "code",
   "execution_count": null,
   "id": "99169725-7cbb-45ea-98ea-eb7d2784e2a3",
   "metadata": {},
   "outputs": [],
   "source": [
    "mp_drawing = mp.solutions.drawing_utils\n",
    "mp_hands = mp.solutions.hands"
   ]
  },
  {
   "cell_type": "code",
   "execution_count": null,
   "id": "e795cfa1-aecf-4454-9774-fb388a20cd19",
   "metadata": {},
   "outputs": [],
   "source": [
    "def mediapipe(frame, hands):\n",
    "    frame = cv2.resize(cv2.flip(frame, 1), (640, 480))\n",
    "    image = cv2.cvtColor(frame, cv2.COLOR_BGR2RGB)\n",
    "\n",
    "    image.flags.writeable = False\n",
    "    results = hands.process(image)\n",
    "    image.flags.writeable = True\n",
    "\n",
    "    image = cv2.cvtColor(image, cv2.COLOR_RGB2BGR)\n",
    "\n",
    "    return image, results"
   ]
  },
  {
   "cell_type": "code",
   "execution_count": null,
   "id": "fc18f9f6-da52-4a9b-8c32-59ff4b5d6391",
   "metadata": {},
   "outputs": [],
   "source": [
    "capture = cv2.VideoCapture(0)"
   ]
  },
  {
   "cell_type": "code",
   "execution_count": null,
   "id": "38024b18-102e-498e-b5b7-26efb5b8e60c",
   "metadata": {},
   "outputs": [],
   "source": [
    "with mp_hands.Hands(max_num_hands=1, min_detection_confidence=0.5, min_tracking_confidence=0.5) as hands:\n",
    "    while capture.isOpened():\n",
    "        ret, frame = capture.read()\n",
    "\n",
    "        image, results = mediapipe(frame, hands)\n",
    "\n",
    "        if results.multi_hand_landmarks:\n",
    "            for hand_landmarks in results.multi_hand_landmarks:\n",
    "                mp_drawing.draw_landmarks(\n",
    "                    image, \n",
    "                    hand_landmarks, \n",
    "                    mp_hands.HAND_CONNECTIONS,\n",
    "                )\n",
    "\n",
    "        cv2.imshow(\"Hand Tracking\", image)\n",
    "\n",
    "        if cv2.waitKey(5) & 0xFF == 27:\n",
    "            break\n",
    "\n",
    "    capture.release()\n",
    "    cv2.destroyAllWindows()"
   ]
  },
  {
   "cell_type": "code",
   "execution_count": null,
   "id": "98fcb898-daaf-420e-8ae8-461034bfd8fe",
   "metadata": {},
   "outputs": [],
   "source": [
    "results.multi_hand_landmarks"
   ]
  },
  {
   "cell_type": "code",
   "execution_count": 1,
   "id": "5c0fd15f-43be-4e0b-9a9b-2f7a2416d66e",
   "metadata": {},
   "outputs": [],
   "source": [
    "import numpy as np\n",
    "import pandas as pd\n",
    "import matplotlib.pyplot as plt\n",
    "import seaborn as sns"
   ]
  },
  {
   "cell_type": "code",
   "execution_count": 2,
   "id": "9b361e9e-3416-4cb3-be9c-275f1fa83908",
   "metadata": {},
   "outputs": [],
   "source": [
    "train = pd.read_csv('Dataset/train_data.csv')\n",
    "test = pd.read_csv('Dataset/test_data.csv')"
   ]
  },
  {
   "cell_type": "code",
   "execution_count": 3,
   "id": "3ced9d72-c9b6-487c-8e28-06f7246b34fe",
   "metadata": {},
   "outputs": [
    {
     "data": {
      "text/html": [
       "<div>\n",
       "<style scoped>\n",
       "    .dataframe tbody tr th:only-of-type {\n",
       "        vertical-align: middle;\n",
       "    }\n",
       "\n",
       "    .dataframe tbody tr th {\n",
       "        vertical-align: top;\n",
       "    }\n",
       "\n",
       "    .dataframe thead th {\n",
       "        text-align: right;\n",
       "    }\n",
       "</style>\n",
       "<table border=\"1\" class=\"dataframe\">\n",
       "  <thead>\n",
       "    <tr style=\"text-align: right;\">\n",
       "      <th></th>\n",
       "      <th>label</th>\n",
       "      <th>ver.x0</th>\n",
       "      <th>ver.y0</th>\n",
       "      <th>ver.z0</th>\n",
       "      <th>ver.x1</th>\n",
       "      <th>ver.y1</th>\n",
       "      <th>ver.z1</th>\n",
       "      <th>ver.x2</th>\n",
       "      <th>ver.y2</th>\n",
       "      <th>ver.z2</th>\n",
       "      <th>...</th>\n",
       "      <th>ver.z17</th>\n",
       "      <th>ver.x18</th>\n",
       "      <th>ver.y18</th>\n",
       "      <th>ver.z18</th>\n",
       "      <th>ver.x19</th>\n",
       "      <th>ver.y19</th>\n",
       "      <th>ver.z19</th>\n",
       "      <th>ver.x20</th>\n",
       "      <th>ver.y20</th>\n",
       "      <th>ver.z20</th>\n",
       "    </tr>\n",
       "  </thead>\n",
       "  <tbody>\n",
       "    <tr>\n",
       "      <th>0</th>\n",
       "      <td>A</td>\n",
       "      <td>0.278411</td>\n",
       "      <td>0.695334</td>\n",
       "      <td>-6.762847e-07</td>\n",
       "      <td>0.200128</td>\n",
       "      <td>0.620533</td>\n",
       "      <td>-0.022475</td>\n",
       "      <td>0.142370</td>\n",
       "      <td>0.516582</td>\n",
       "      <td>-0.040151</td>\n",
       "      <td>...</td>\n",
       "      <td>-0.049513</td>\n",
       "      <td>0.365731</td>\n",
       "      <td>0.458294</td>\n",
       "      <td>-0.073240</td>\n",
       "      <td>0.357022</td>\n",
       "      <td>0.511900</td>\n",
       "      <td>-0.059459</td>\n",
       "      <td>0.346693</td>\n",
       "      <td>0.564412</td>\n",
       "      <td>-0.040863</td>\n",
       "    </tr>\n",
       "    <tr>\n",
       "      <th>1</th>\n",
       "      <td>A</td>\n",
       "      <td>0.579226</td>\n",
       "      <td>0.760085</td>\n",
       "      <td>-1.479179e-06</td>\n",
       "      <td>0.411217</td>\n",
       "      <td>0.680030</td>\n",
       "      <td>-0.040085</td>\n",
       "      <td>0.265983</td>\n",
       "      <td>0.565985</td>\n",
       "      <td>-0.118771</td>\n",
       "      <td>...</td>\n",
       "      <td>-0.242286</td>\n",
       "      <td>0.591494</td>\n",
       "      <td>0.576435</td>\n",
       "      <td>-0.280686</td>\n",
       "      <td>0.557463</td>\n",
       "      <td>0.594451</td>\n",
       "      <td>-0.267542</td>\n",
       "      <td>0.534894</td>\n",
       "      <td>0.644566</td>\n",
       "      <td>-0.263740</td>\n",
       "    </tr>\n",
       "    <tr>\n",
       "      <th>2</th>\n",
       "      <td>A</td>\n",
       "      <td>0.479878</td>\n",
       "      <td>0.789794</td>\n",
       "      <td>-1.101431e-06</td>\n",
       "      <td>0.379517</td>\n",
       "      <td>0.716278</td>\n",
       "      <td>-0.031272</td>\n",
       "      <td>0.307061</td>\n",
       "      <td>0.580528</td>\n",
       "      <td>-0.051447</td>\n",
       "      <td>...</td>\n",
       "      <td>-0.067705</td>\n",
       "      <td>0.580279</td>\n",
       "      <td>0.515611</td>\n",
       "      <td>-0.106108</td>\n",
       "      <td>0.559661</td>\n",
       "      <td>0.600459</td>\n",
       "      <td>-0.090427</td>\n",
       "      <td>0.554961</td>\n",
       "      <td>0.667288</td>\n",
       "      <td>-0.067013</td>\n",
       "    </tr>\n",
       "    <tr>\n",
       "      <th>3</th>\n",
       "      <td>A</td>\n",
       "      <td>0.475106</td>\n",
       "      <td>0.804069</td>\n",
       "      <td>-1.105380e-06</td>\n",
       "      <td>0.369806</td>\n",
       "      <td>0.720176</td>\n",
       "      <td>-0.034797</td>\n",
       "      <td>0.296779</td>\n",
       "      <td>0.589539</td>\n",
       "      <td>-0.059023</td>\n",
       "      <td>...</td>\n",
       "      <td>-0.075889</td>\n",
       "      <td>0.574916</td>\n",
       "      <td>0.524177</td>\n",
       "      <td>-0.114318</td>\n",
       "      <td>0.557065</td>\n",
       "      <td>0.611504</td>\n",
       "      <td>-0.097624</td>\n",
       "      <td>0.546631</td>\n",
       "      <td>0.681055</td>\n",
       "      <td>-0.074528</td>\n",
       "    </tr>\n",
       "    <tr>\n",
       "      <th>4</th>\n",
       "      <td>A</td>\n",
       "      <td>0.466990</td>\n",
       "      <td>0.802180</td>\n",
       "      <td>-1.071714e-06</td>\n",
       "      <td>0.365610</td>\n",
       "      <td>0.740132</td>\n",
       "      <td>-0.033263</td>\n",
       "      <td>0.292247</td>\n",
       "      <td>0.604434</td>\n",
       "      <td>-0.052462</td>\n",
       "      <td>...</td>\n",
       "      <td>-0.070841</td>\n",
       "      <td>0.566635</td>\n",
       "      <td>0.533698</td>\n",
       "      <td>-0.108298</td>\n",
       "      <td>0.545575</td>\n",
       "      <td>0.618803</td>\n",
       "      <td>-0.092145</td>\n",
       "      <td>0.540315</td>\n",
       "      <td>0.682023</td>\n",
       "      <td>-0.069202</td>\n",
       "    </tr>\n",
       "  </tbody>\n",
       "</table>\n",
       "<p>5 rows × 64 columns</p>\n",
       "</div>"
      ],
      "text/plain": [
       "  label    ver.x0    ver.y0        ver.z0    ver.x1    ver.y1    ver.z1  \\\n",
       "0     A  0.278411  0.695334 -6.762847e-07  0.200128  0.620533 -0.022475   \n",
       "1     A  0.579226  0.760085 -1.479179e-06  0.411217  0.680030 -0.040085   \n",
       "2     A  0.479878  0.789794 -1.101431e-06  0.379517  0.716278 -0.031272   \n",
       "3     A  0.475106  0.804069 -1.105380e-06  0.369806  0.720176 -0.034797   \n",
       "4     A  0.466990  0.802180 -1.071714e-06  0.365610  0.740132 -0.033263   \n",
       "\n",
       "     ver.x2    ver.y2    ver.z2  ...   ver.z17   ver.x18   ver.y18   ver.z18  \\\n",
       "0  0.142370  0.516582 -0.040151  ... -0.049513  0.365731  0.458294 -0.073240   \n",
       "1  0.265983  0.565985 -0.118771  ... -0.242286  0.591494  0.576435 -0.280686   \n",
       "2  0.307061  0.580528 -0.051447  ... -0.067705  0.580279  0.515611 -0.106108   \n",
       "3  0.296779  0.589539 -0.059023  ... -0.075889  0.574916  0.524177 -0.114318   \n",
       "4  0.292247  0.604434 -0.052462  ... -0.070841  0.566635  0.533698 -0.108298   \n",
       "\n",
       "    ver.x19   ver.y19   ver.z19   ver.x20   ver.y20   ver.z20  \n",
       "0  0.357022  0.511900 -0.059459  0.346693  0.564412 -0.040863  \n",
       "1  0.557463  0.594451 -0.267542  0.534894  0.644566 -0.263740  \n",
       "2  0.559661  0.600459 -0.090427  0.554961  0.667288 -0.067013  \n",
       "3  0.557065  0.611504 -0.097624  0.546631  0.681055 -0.074528  \n",
       "4  0.545575  0.618803 -0.092145  0.540315  0.682023 -0.069202  \n",
       "\n",
       "[5 rows x 64 columns]"
      ]
     },
     "execution_count": 3,
     "metadata": {},
     "output_type": "execute_result"
    }
   ],
   "source": [
    "train.head()"
   ]
  },
  {
   "cell_type": "code",
   "execution_count": 4,
   "id": "3d6c8417-0b51-4bc8-9535-f56c11a39708",
   "metadata": {},
   "outputs": [
    {
     "data": {
      "text/html": [
       "<div>\n",
       "<style scoped>\n",
       "    .dataframe tbody tr th:only-of-type {\n",
       "        vertical-align: middle;\n",
       "    }\n",
       "\n",
       "    .dataframe tbody tr th {\n",
       "        vertical-align: top;\n",
       "    }\n",
       "\n",
       "    .dataframe thead th {\n",
       "        text-align: right;\n",
       "    }\n",
       "</style>\n",
       "<table border=\"1\" class=\"dataframe\">\n",
       "  <thead>\n",
       "    <tr style=\"text-align: right;\">\n",
       "      <th></th>\n",
       "      <th>label</th>\n",
       "      <th>ver.x0</th>\n",
       "      <th>ver.y0</th>\n",
       "      <th>ver.z0</th>\n",
       "      <th>ver.x1</th>\n",
       "      <th>ver.y1</th>\n",
       "      <th>ver.z1</th>\n",
       "      <th>ver.x2</th>\n",
       "      <th>ver.y2</th>\n",
       "      <th>ver.z2</th>\n",
       "      <th>...</th>\n",
       "      <th>ver.z17</th>\n",
       "      <th>ver.x18</th>\n",
       "      <th>ver.y18</th>\n",
       "      <th>ver.z18</th>\n",
       "      <th>ver.x19</th>\n",
       "      <th>ver.y19</th>\n",
       "      <th>ver.z19</th>\n",
       "      <th>ver.x20</th>\n",
       "      <th>ver.y20</th>\n",
       "      <th>ver.z20</th>\n",
       "    </tr>\n",
       "  </thead>\n",
       "  <tbody>\n",
       "    <tr>\n",
       "      <th>0</th>\n",
       "      <td>B</td>\n",
       "      <td>0.468974</td>\n",
       "      <td>0.957347</td>\n",
       "      <td>8.264763e-07</td>\n",
       "      <td>0.334997</td>\n",
       "      <td>0.871521</td>\n",
       "      <td>-0.059660</td>\n",
       "      <td>0.252024</td>\n",
       "      <td>0.746197</td>\n",
       "      <td>-0.078749</td>\n",
       "      <td>...</td>\n",
       "      <td>0.001565</td>\n",
       "      <td>0.557779</td>\n",
       "      <td>0.479014</td>\n",
       "      <td>-0.010508</td>\n",
       "      <td>0.554430</td>\n",
       "      <td>0.399632</td>\n",
       "      <td>-0.020901</td>\n",
       "      <td>0.554333</td>\n",
       "      <td>0.327857</td>\n",
       "      <td>-0.031532</td>\n",
       "    </tr>\n",
       "    <tr>\n",
       "      <th>1</th>\n",
       "      <td>F</td>\n",
       "      <td>0.389900</td>\n",
       "      <td>0.802690</td>\n",
       "      <td>-4.815158e-07</td>\n",
       "      <td>0.295742</td>\n",
       "      <td>0.703891</td>\n",
       "      <td>-0.037011</td>\n",
       "      <td>0.234400</td>\n",
       "      <td>0.600398</td>\n",
       "      <td>-0.058510</td>\n",
       "      <td>...</td>\n",
       "      <td>-0.015473</td>\n",
       "      <td>0.690986</td>\n",
       "      <td>0.515100</td>\n",
       "      <td>-0.041385</td>\n",
       "      <td>0.719852</td>\n",
       "      <td>0.438441</td>\n",
       "      <td>-0.056521</td>\n",
       "      <td>0.723234</td>\n",
       "      <td>0.364735</td>\n",
       "      <td>-0.064935</td>\n",
       "    </tr>\n",
       "    <tr>\n",
       "      <th>2</th>\n",
       "      <td>G</td>\n",
       "      <td>0.396125</td>\n",
       "      <td>0.764175</td>\n",
       "      <td>-3.180436e-07</td>\n",
       "      <td>0.390238</td>\n",
       "      <td>0.598494</td>\n",
       "      <td>-0.018371</td>\n",
       "      <td>0.436514</td>\n",
       "      <td>0.499410</td>\n",
       "      <td>-0.020791</td>\n",
       "      <td>...</td>\n",
       "      <td>-0.028913</td>\n",
       "      <td>0.669916</td>\n",
       "      <td>0.721085</td>\n",
       "      <td>-0.064301</td>\n",
       "      <td>0.587629</td>\n",
       "      <td>0.739817</td>\n",
       "      <td>-0.035708</td>\n",
       "      <td>0.537452</td>\n",
       "      <td>0.751202</td>\n",
       "      <td>-0.001966</td>\n",
       "    </tr>\n",
       "    <tr>\n",
       "      <th>3</th>\n",
       "      <td>I</td>\n",
       "      <td>0.698550</td>\n",
       "      <td>0.819186</td>\n",
       "      <td>-8.286916e-07</td>\n",
       "      <td>0.549498</td>\n",
       "      <td>0.726644</td>\n",
       "      <td>-0.036801</td>\n",
       "      <td>0.465512</td>\n",
       "      <td>0.568181</td>\n",
       "      <td>-0.065155</td>\n",
       "      <td>...</td>\n",
       "      <td>-0.060483</td>\n",
       "      <td>0.758317</td>\n",
       "      <td>0.243623</td>\n",
       "      <td>-0.097302</td>\n",
       "      <td>0.748477</td>\n",
       "      <td>0.144045</td>\n",
       "      <td>-0.098005</td>\n",
       "      <td>0.737958</td>\n",
       "      <td>0.050565</td>\n",
       "      <td>-0.085202</td>\n",
       "    </tr>\n",
       "    <tr>\n",
       "      <th>4</th>\n",
       "      <td>J</td>\n",
       "      <td>0.302200</td>\n",
       "      <td>0.717258</td>\n",
       "      <td>-8.534749e-07</td>\n",
       "      <td>0.258111</td>\n",
       "      <td>0.584270</td>\n",
       "      <td>-0.047144</td>\n",
       "      <td>0.309129</td>\n",
       "      <td>0.440646</td>\n",
       "      <td>-0.065515</td>\n",
       "      <td>...</td>\n",
       "      <td>-0.004593</td>\n",
       "      <td>0.632797</td>\n",
       "      <td>0.460989</td>\n",
       "      <td>-0.035958</td>\n",
       "      <td>0.689990</td>\n",
       "      <td>0.406403</td>\n",
       "      <td>-0.043470</td>\n",
       "      <td>0.744364</td>\n",
       "      <td>0.348788</td>\n",
       "      <td>-0.039284</td>\n",
       "    </tr>\n",
       "  </tbody>\n",
       "</table>\n",
       "<p>5 rows × 64 columns</p>\n",
       "</div>"
      ],
      "text/plain": [
       "  label    ver.x0    ver.y0        ver.z0    ver.x1    ver.y1    ver.z1  \\\n",
       "0     B  0.468974  0.957347  8.264763e-07  0.334997  0.871521 -0.059660   \n",
       "1     F  0.389900  0.802690 -4.815158e-07  0.295742  0.703891 -0.037011   \n",
       "2     G  0.396125  0.764175 -3.180436e-07  0.390238  0.598494 -0.018371   \n",
       "3     I  0.698550  0.819186 -8.286916e-07  0.549498  0.726644 -0.036801   \n",
       "4     J  0.302200  0.717258 -8.534749e-07  0.258111  0.584270 -0.047144   \n",
       "\n",
       "     ver.x2    ver.y2    ver.z2  ...   ver.z17   ver.x18   ver.y18   ver.z18  \\\n",
       "0  0.252024  0.746197 -0.078749  ...  0.001565  0.557779  0.479014 -0.010508   \n",
       "1  0.234400  0.600398 -0.058510  ... -0.015473  0.690986  0.515100 -0.041385   \n",
       "2  0.436514  0.499410 -0.020791  ... -0.028913  0.669916  0.721085 -0.064301   \n",
       "3  0.465512  0.568181 -0.065155  ... -0.060483  0.758317  0.243623 -0.097302   \n",
       "4  0.309129  0.440646 -0.065515  ... -0.004593  0.632797  0.460989 -0.035958   \n",
       "\n",
       "    ver.x19   ver.y19   ver.z19   ver.x20   ver.y20   ver.z20  \n",
       "0  0.554430  0.399632 -0.020901  0.554333  0.327857 -0.031532  \n",
       "1  0.719852  0.438441 -0.056521  0.723234  0.364735 -0.064935  \n",
       "2  0.587629  0.739817 -0.035708  0.537452  0.751202 -0.001966  \n",
       "3  0.748477  0.144045 -0.098005  0.737958  0.050565 -0.085202  \n",
       "4  0.689990  0.406403 -0.043470  0.744364  0.348788 -0.039284  \n",
       "\n",
       "[5 rows x 64 columns]"
      ]
     },
     "execution_count": 4,
     "metadata": {},
     "output_type": "execute_result"
    }
   ],
   "source": [
    "test.head()"
   ]
  },
  {
   "cell_type": "code",
   "execution_count": 5,
   "id": "7ba8b3e7-c221-49d1-8c20-e8ea32595514",
   "metadata": {},
   "outputs": [
    {
     "data": {
      "text/plain": [
       "array(['A', 'B', 'C', 'D', 'E', 'F', 'G', 'H', 'I', 'J', 'K', 'L', 'M',\n",
       "       'N', 'O', 'P', 'Q', 'R', 'S', 'T', 'U', 'V', 'W', 'X', 'Y', 'Z'],\n",
       "      dtype=object)"
      ]
     },
     "execution_count": 5,
     "metadata": {},
     "output_type": "execute_result"
    }
   ],
   "source": [
    "labels = train['label'].values\n",
    "unique_val = np.array(labels)\n",
    "np.unique(unique_val)"
   ]
  },
  {
   "cell_type": "code",
   "execution_count": 6,
   "id": "dafb2d09-6e76-45e5-8157-d45dd4606b63",
   "metadata": {},
   "outputs": [
    {
     "data": {
      "text/plain": [
       "<Axes: ylabel='count'>"
      ]
     },
     "execution_count": 6,
     "metadata": {},
     "output_type": "execute_result"
    },
    {
     "data": {
      "image/png": "[encoded data removed]",
      "text/plain": [
       "<Figure size 640x480 with 1 Axes>"
      ]
     },
     "metadata": {},
     "output_type": "display_data"
    }
   ],
   "source": [
    "plt.figure()\n",
    "sns.countplot(x = labels)"
   ]
  },
  {
   "cell_type": "code",
   "execution_count": 7,
   "id": "f0d5800f-4a57-425f-b321-122a44ed9529",
   "metadata": {},
   "outputs": [
    {
     "name": "stdout",
     "output_type": "stream",
     "text": [
      "WARNING:tensorflow:From C:\\Users\\User\\AppData\\Local\\Programs\\Python\\Python311\\Lib\\site-packages\\keras\\src\\losses.py:2976: The name tf.losses.sparse_softmax_cross_entropy is deprecated. Please use tf.compat.v1.losses.sparse_softmax_cross_entropy instead.\n",
      "\n"
     ]
    }
   ],
   "source": [
    "from tensorflow.keras.models import Sequential\n",
    "from tensorflow.keras.layers import Dense, Dropout\n",
    "from tensorflow.keras.utils import to_categorical"
   ]
  },
  {
   "cell_type": "code",
   "execution_count": 8,
   "id": "09e7eb38-6ec1-46aa-b3c1-7846057fbd9d",
   "metadata": {},
   "outputs": [],
   "source": [
    "num_classes = len(np.unique(unique_val))\n",
    "num_epochs = 100\n",
    "batch_size = 128"
   ]
  },
  {
   "cell_type": "code",
   "execution_count": 9,
   "id": "7ca369d5-a732-4202-9080-e9691b62975d",
   "metadata": {},
   "outputs": [],
   "source": [
    "l = train['label'].tolist()\n",
    "y_train = [ord(label) - ord('A') for label in l]\n",
    "x_train = []\n",
    "for i, row in train.iterrows():\n",
    "    features = row.drop('label').values\n",
    "    x_train.append(features)"
   ]
  },
  {
   "cell_type": "code",
   "execution_count": 10,
   "id": "08959bb1-1c06-466e-aeb6-c2175891e87c",
   "metadata": {},
   "outputs": [],
   "source": [
    "l = test['label'].tolist()\n",
    "y_test = [ord(label) - ord('A') for label in l]\n",
    "x_test = []\n",
    "for i, row in test.iterrows():\n",
    "    features = row.drop('label').values\n",
    "    x_test.append(features)"
   ]
  },
  {
   "cell_type": "code",
   "execution_count": 11,
   "id": "3bf95269-38ac-4620-ae48-0e2a1f0b95c1",
   "metadata": {},
   "outputs": [],
   "source": [
    "y_train = to_categorical(y_train, num_classes=num_classes)\n",
    "y_test = to_categorical(y_test, num_classes=num_classes)"
   ]
  },
  {
   "cell_type": "code",
   "execution_count": 12,
   "id": "c4b6037c-1a56-43cd-8414-341873596f80",
   "metadata": {},
   "outputs": [],
   "source": [
    "x_train = np.array(x_train, dtype='float32')\n",
    "x_test = np.array(x_test, dtype='float32')"
   ]
  },
  {
   "cell_type": "code",
   "execution_count": 13,
   "id": "4a1df1f1-d22a-45d2-8d00-3a15cde28605",
   "metadata": {},
   "outputs": [
    {
     "data": {
      "text/plain": [
       "(21975, 26)"
      ]
     },
     "execution_count": 13,
     "metadata": {},
     "output_type": "execute_result"
    }
   ],
   "source": [
    "y_train.shape"
   ]
  },
  {
   "cell_type": "code",
   "execution_count": 14,
   "id": "d0a796c3-4196-4b53-811a-a82c59d99243",
   "metadata": {},
   "outputs": [
    {
     "data": {
      "text/plain": [
       "(15, 26)"
      ]
     },
     "execution_count": 14,
     "metadata": {},
     "output_type": "execute_result"
    }
   ],
   "source": [
    "y_test.shape"
   ]
  },
  {
   "cell_type": "code",
   "execution_count": 15,
   "id": "7b66e6a2-2e30-4d72-86a4-78b18b1595b5",
   "metadata": {},
   "outputs": [
    {
     "data": {
      "text/plain": [
       "(15, 63)"
      ]
     },
     "execution_count": 15,
     "metadata": {},
     "output_type": "execute_result"
    }
   ],
   "source": [
    "x_test.shape"
   ]
  },
  {
   "cell_type": "code",
   "execution_count": 16,
   "id": "a7396302-8541-41a6-8b4a-78276c5304c7",
   "metadata": {},
   "outputs": [
    {
     "name": "stdout",
     "output_type": "stream",
     "text": [
      "WARNING:tensorflow:From C:\\Users\\User\\AppData\\Local\\Programs\\Python\\Python311\\Lib\\site-packages\\keras\\src\\backend.py:873: The name tf.get_default_graph is deprecated. Please use tf.compat.v1.get_default_graph instead.\n",
      "\n"
     ]
    }
   ],
   "source": [
    "model = Sequential()\n",
    "\n",
    "model.add(Dense(units=256, activation='relu', input_shape=(63,)))\n",
    "model.add(Dropout(0.5))\n",
    "\n",
    "model.add(Dense(units=128, activation='relu'))\n",
    "model.add(Dropout(0.5))\n",
    "\n",
    "model.add(Dense(units=64, activation='relu'))\n",
    "model.add(Dropout(0.5))\n",
    "\n",
    "model.add(Dense(units=num_classes, activation='softmax'))"
   ]
  },
  {
   "cell_type": "code",
   "execution_count": 17,
   "id": "bf4429ec-89b4-4f99-9476-4c568ed3d726",
   "metadata": {},
   "outputs": [
    {
     "name": "stdout",
     "output_type": "stream",
     "text": [
      "Model: \"sequential\"\n",
      "_________________________________________________________________\n",
      " Layer (type)                Output Shape              Param #   \n",
      "=================================================================\n",
      " dense (Dense)               (None, 256)               16384     \n",
      "                                                                 \n",
      " dropout (Dropout)           (None, 256)               0         \n",
      "                                                                 \n",
      " dense_1 (Dense)             (None, 128)               32896     \n",
      "                                                                 \n",
      " dropout_1 (Dropout)         (None, 128)               0         \n",
      "                                                                 \n",
      " dense_2 (Dense)             (None, 64)                8256      \n",
      "                                                                 \n",
      " dropout_2 (Dropout)         (None, 64)                0         \n",
      "                                                                 \n",
      " dense_3 (Dense)             (None, 26)                1690      \n",
      "                                                                 \n",
      "=================================================================\n",
      "Total params: 59226 (231.35 KB)\n",
      "Trainable params: 59226 (231.35 KB)\n",
      "Non-trainable params: 0 (0.00 Byte)\n",
      "_________________________________________________________________\n"
     ]
    }
   ],
   "source": [
    "model.summary()"
   ]
  },
  {
   "cell_type": "code",
   "execution_count": 18,
   "id": "22a6ee71-abdd-42b5-a930-a9a09ae90755",
   "metadata": {},
   "outputs": [
    {
     "name": "stdout",
     "output_type": "stream",
     "text": [
      "WARNING:tensorflow:From C:\\Users\\User\\AppData\\Local\\Programs\\Python\\Python311\\Lib\\site-packages\\keras\\src\\optimizers\\__init__.py:309: The name tf.train.Optimizer is deprecated. Please use tf.compat.v1.train.Optimizer instead.\n",
      "\n"
     ]
    }
   ],
   "source": [
    "model.compile(optimizer='adam', loss='categorical_crossentropy', metrics=['accuracy'])"
   ]
  },
  {
   "cell_type": "code",
   "execution_count": 19,
   "id": "2c691bc5-5e0a-47e0-a06d-44e119f77beb",
   "metadata": {},
   "outputs": [
    {
     "name": "stdout",
     "output_type": "stream",
     "text": [
      "Epoch 1/100\n",
      "WARNING:tensorflow:From C:\\Users\\User\\AppData\\Local\\Programs\\Python\\Python311\\Lib\\site-packages\\keras\\src\\utils\\tf_utils.py:492: The name tf.ragged.RaggedTensorValue is deprecated. Please use tf.compat.v1.ragged.RaggedTensorValue instead.\n",
      "\n",
      "WARNING:tensorflow:From C:\\Users\\User\\AppData\\Local\\Programs\\Python\\Python311\\Lib\\site-packages\\keras\\src\\engine\\base_layer_utils.py:384: The name tf.executing_eagerly_outside_functions is deprecated. Please use tf.compat.v1.executing_eagerly_outside_functions instead.\n",
      "\n",
      "172/172 [==============================] - 2s 4ms/step - loss: 3.0390 - accuracy: 0.1054 - val_loss: 1.9606 - val_accuracy: 0.3333\n",
      "Epoch 2/100\n",
      "172/172 [==============================] - 0s 3ms/step - loss: 1.8621 - accuracy: 0.3730 - val_loss: 0.7229 - val_accuracy: 0.8667\n",
      "Epoch 3/100\n",
      "172/172 [==============================] - 0s 3ms/step - loss: 1.1443 - accuracy: 0.5880 - val_loss: 0.3636 - val_accuracy: 0.8667\n",
      "Epoch 4/100\n",
      "172/172 [==============================] - 0s 3ms/step - loss: 0.8552 - accuracy: 0.6893 - val_loss: 0.3025 - val_accuracy: 0.8667\n",
      "Epoch 5/100\n",
      "172/172 [==============================] - 0s 2ms/step - loss: 0.7088 - accuracy: 0.7497 - val_loss: 0.1578 - val_accuracy: 1.0000\n",
      "Epoch 6/100\n",
      "172/172 [==============================] - 0s 2ms/step - loss: 0.6115 - accuracy: 0.7816 - val_loss: 0.1097 - val_accuracy: 1.0000\n",
      "Epoch 7/100\n",
      "172/172 [==============================] - 0s 3ms/step - loss: 0.5468 - accuracy: 0.8094 - val_loss: 0.0982 - val_accuracy: 1.0000\n",
      "Epoch 8/100\n",
      "172/172 [==============================] - 0s 3ms/step - loss: 0.4990 - accuracy: 0.8264 - val_loss: 0.0873 - val_accuracy: 1.0000\n",
      "Epoch 9/100\n",
      "172/172 [==============================] - 0s 3ms/step - loss: 0.4604 - accuracy: 0.8407 - val_loss: 0.0532 - val_accuracy: 1.0000\n",
      "Epoch 10/100\n",
      "172/172 [==============================] - 0s 3ms/step - loss: 0.4302 - accuracy: 0.8513 - val_loss: 0.0646 - val_accuracy: 1.0000\n",
      "Epoch 11/100\n",
      "172/172 [==============================] - 0s 3ms/step - loss: 0.4064 - accuracy: 0.8601 - val_loss: 0.0474 - val_accuracy: 1.0000\n",
      "Epoch 12/100\n",
      "172/172 [==============================] - 0s 3ms/step - loss: 0.3821 - accuracy: 0.8698 - val_loss: 0.0494 - val_accuracy: 1.0000\n",
      "Epoch 13/100\n",
      "172/172 [==============================] - 0s 3ms/step - loss: 0.3607 - accuracy: 0.8761 - val_loss: 0.0485 - val_accuracy: 1.0000\n",
      "Epoch 14/100\n",
      "172/172 [==============================] - 0s 3ms/step - loss: 0.3536 - accuracy: 0.8803 - val_loss: 0.0399 - val_accuracy: 1.0000\n",
      "Epoch 15/100\n",
      "172/172 [==============================] - 0s 2ms/step - loss: 0.3268 - accuracy: 0.8891 - val_loss: 0.0342 - val_accuracy: 1.0000\n",
      "Epoch 16/100\n",
      "172/172 [==============================] - 0s 3ms/step - loss: 0.3111 - accuracy: 0.8960 - val_loss: 0.0215 - val_accuracy: 1.0000\n",
      "Epoch 17/100\n",
      "172/172 [==============================] - 0s 2ms/step - loss: 0.3002 - accuracy: 0.8997 - val_loss: 0.0243 - val_accuracy: 1.0000\n",
      "Epoch 18/100\n",
      "172/172 [==============================] - 0s 2ms/step - loss: 0.2906 - accuracy: 0.9013 - val_loss: 0.0202 - val_accuracy: 1.0000\n",
      "Epoch 19/100\n",
      "172/172 [==============================] - 0s 2ms/step - loss: 0.2909 - accuracy: 0.9041 - val_loss: 0.0290 - val_accuracy: 1.0000\n",
      "Epoch 20/100\n",
      "172/172 [==============================] - 0s 2ms/step - loss: 0.2800 - accuracy: 0.9092 - val_loss: 0.0187 - val_accuracy: 1.0000\n",
      "Epoch 21/100\n",
      "172/172 [==============================] - 0s 3ms/step - loss: 0.2664 - accuracy: 0.9133 - val_loss: 0.0187 - val_accuracy: 1.0000\n",
      "Epoch 22/100\n",
      "172/172 [==============================] - 0s 3ms/step - loss: 0.2618 - accuracy: 0.9143 - val_loss: 0.0123 - val_accuracy: 1.0000\n",
      "Epoch 23/100\n",
      "172/172 [==============================] - 1s 3ms/step - loss: 0.2483 - accuracy: 0.9198 - val_loss: 0.0174 - val_accuracy: 1.0000\n",
      "Epoch 24/100\n",
      "172/172 [==============================] - 1s 3ms/step - loss: 0.2448 - accuracy: 0.9222 - val_loss: 0.0163 - val_accuracy: 1.0000\n",
      "Epoch 25/100\n",
      "172/172 [==============================] - 0s 3ms/step - loss: 0.2382 - accuracy: 0.9237 - val_loss: 0.0546 - val_accuracy: 1.0000\n",
      "Epoch 26/100\n",
      "172/172 [==============================] - 0s 2ms/step - loss: 0.2294 - accuracy: 0.9273 - val_loss: 0.0106 - val_accuracy: 1.0000\n",
      "Epoch 27/100\n",
      "172/172 [==============================] - 0s 2ms/step - loss: 0.2144 - accuracy: 0.9316 - val_loss: 0.0123 - val_accuracy: 1.0000\n",
      "Epoch 28/100\n",
      "172/172 [==============================] - 0s 3ms/step - loss: 0.2312 - accuracy: 0.9275 - val_loss: 0.0085 - val_accuracy: 1.0000\n",
      "Epoch 29/100\n",
      "172/172 [==============================] - 0s 3ms/step - loss: 0.2160 - accuracy: 0.9311 - val_loss: 0.0107 - val_accuracy: 1.0000\n",
      "Epoch 30/100\n",
      "172/172 [==============================] - 0s 3ms/step - loss: 0.2134 - accuracy: 0.9327 - val_loss: 0.0095 - val_accuracy: 1.0000\n",
      "Epoch 31/100\n",
      "172/172 [==============================] - 0s 3ms/step - loss: 0.2076 - accuracy: 0.9350 - val_loss: 0.0051 - val_accuracy: 1.0000\n",
      "Epoch 32/100\n",
      "172/172 [==============================] - 0s 2ms/step - loss: 0.2184 - accuracy: 0.9313 - val_loss: 0.0058 - val_accuracy: 1.0000\n",
      "Epoch 33/100\n",
      "172/172 [==============================] - 0s 2ms/step - loss: 0.1975 - accuracy: 0.9388 - val_loss: 0.0071 - val_accuracy: 1.0000\n",
      "Epoch 34/100\n",
      "172/172 [==============================] - 0s 3ms/step - loss: 0.1973 - accuracy: 0.9371 - val_loss: 0.0062 - val_accuracy: 1.0000\n",
      "Epoch 35/100\n",
      "172/172 [==============================] - 0s 2ms/step - loss: 0.1947 - accuracy: 0.9391 - val_loss: 0.0024 - val_accuracy: 1.0000\n",
      "Epoch 36/100\n",
      "172/172 [==============================] - 0s 2ms/step - loss: 0.1917 - accuracy: 0.9410 - val_loss: 0.0082 - val_accuracy: 1.0000\n",
      "Epoch 37/100\n",
      "172/172 [==============================] - 0s 2ms/step - loss: 0.1911 - accuracy: 0.9416 - val_loss: 0.0032 - val_accuracy: 1.0000\n",
      "Epoch 38/100\n",
      "172/172 [==============================] - 1s 3ms/step - loss: 0.1866 - accuracy: 0.9438 - val_loss: 0.0037 - val_accuracy: 1.0000\n",
      "Epoch 39/100\n",
      "172/172 [==============================] - 1s 3ms/step - loss: 0.1730 - accuracy: 0.9471 - val_loss: 0.0014 - val_accuracy: 1.0000\n",
      "Epoch 40/100\n",
      "172/172 [==============================] - 1s 3ms/step - loss: 0.1714 - accuracy: 0.9460 - val_loss: 0.0012 - val_accuracy: 1.0000\n",
      "Epoch 41/100\n",
      "172/172 [==============================] - 1s 3ms/step - loss: 0.1585 - accuracy: 0.9501 - val_loss: 0.0016 - val_accuracy: 1.0000\n",
      "Epoch 42/100\n",
      "172/172 [==============================] - 1s 3ms/step - loss: 0.1793 - accuracy: 0.9450 - val_loss: 0.0013 - val_accuracy: 1.0000\n",
      "Epoch 43/100\n",
      "172/172 [==============================] - 1s 3ms/step - loss: 0.1684 - accuracy: 0.9486 - val_loss: 0.0036 - val_accuracy: 1.0000\n",
      "Epoch 44/100\n",
      "172/172 [==============================] - 1s 3ms/step - loss: 0.1700 - accuracy: 0.9450 - val_loss: 0.0025 - val_accuracy: 1.0000\n",
      "Epoch 45/100\n",
      "172/172 [==============================] - 1s 3ms/step - loss: 0.1646 - accuracy: 0.9485 - val_loss: 0.0031 - val_accuracy: 1.0000\n",
      "Epoch 46/100\n",
      "172/172 [==============================] - 1s 3ms/step - loss: 0.1589 - accuracy: 0.9517 - val_loss: 7.4614e-04 - val_accuracy: 1.0000\n",
      "Epoch 47/100\n",
      "172/172 [==============================] - 1s 3ms/step - loss: 0.1587 - accuracy: 0.9497 - val_loss: 0.0092 - val_accuracy: 1.0000\n",
      "Epoch 48/100\n",
      "172/172 [==============================] - 1s 3ms/step - loss: 0.1566 - accuracy: 0.9509 - val_loss: 9.8544e-04 - val_accuracy: 1.0000\n",
      "Epoch 49/100\n",
      "172/172 [==============================] - 1s 3ms/step - loss: 0.1530 - accuracy: 0.9547 - val_loss: 0.0037 - val_accuracy: 1.0000\n",
      "Epoch 50/100\n",
      "172/172 [==============================] - 1s 3ms/step - loss: 0.1658 - accuracy: 0.9499 - val_loss: 9.7482e-04 - val_accuracy: 1.0000\n",
      "Epoch 51/100\n",
      "172/172 [==============================] - 1s 3ms/step - loss: 0.1607 - accuracy: 0.9510 - val_loss: 0.0031 - val_accuracy: 1.0000\n",
      "Epoch 52/100\n",
      "172/172 [==============================] - 0s 3ms/step - loss: 0.1496 - accuracy: 0.9556 - val_loss: 0.0010 - val_accuracy: 1.0000\n",
      "Epoch 53/100\n",
      "172/172 [==============================] - 0s 3ms/step - loss: 0.1532 - accuracy: 0.9531 - val_loss: 0.0011 - val_accuracy: 1.0000\n",
      "Epoch 54/100\n",
      "172/172 [==============================] - 0s 3ms/step - loss: 0.1502 - accuracy: 0.9542 - val_loss: 5.9563e-04 - val_accuracy: 1.0000\n",
      "Epoch 55/100\n",
      "172/172 [==============================] - 0s 3ms/step - loss: 0.1561 - accuracy: 0.9524 - val_loss: 6.0810e-04 - val_accuracy: 1.0000\n",
      "Epoch 56/100\n",
      "172/172 [==============================] - 0s 3ms/step - loss: 0.1466 - accuracy: 0.9550 - val_loss: 9.4137e-04 - val_accuracy: 1.0000\n",
      "Epoch 57/100\n",
      "172/172 [==============================] - 1s 3ms/step - loss: 0.1446 - accuracy: 0.9544 - val_loss: 4.0108e-04 - val_accuracy: 1.0000\n",
      "Epoch 58/100\n",
      "172/172 [==============================] - 1s 3ms/step - loss: 0.1496 - accuracy: 0.9554 - val_loss: 3.9134e-04 - val_accuracy: 1.0000\n",
      "Epoch 59/100\n",
      "172/172 [==============================] - 0s 3ms/step - loss: 0.1549 - accuracy: 0.9526 - val_loss: 0.0014 - val_accuracy: 1.0000\n",
      "Epoch 60/100\n",
      "172/172 [==============================] - 1s 3ms/step - loss: 0.1348 - accuracy: 0.9586 - val_loss: 7.8546e-04 - val_accuracy: 1.0000\n",
      "Epoch 61/100\n",
      "172/172 [==============================] - 1s 3ms/step - loss: 0.1387 - accuracy: 0.9570 - val_loss: 4.6144e-04 - val_accuracy: 1.0000\n",
      "Epoch 62/100\n",
      "172/172 [==============================] - 1s 3ms/step - loss: 0.1324 - accuracy: 0.9598 - val_loss: 4.6077e-04 - val_accuracy: 1.0000\n",
      "Epoch 63/100\n",
      "172/172 [==============================] - 0s 3ms/step - loss: 0.1334 - accuracy: 0.9602 - val_loss: 3.1725e-04 - val_accuracy: 1.0000\n",
      "Epoch 64/100\n",
      "172/172 [==============================] - 0s 3ms/step - loss: 0.1285 - accuracy: 0.9592 - val_loss: 4.9139e-04 - val_accuracy: 1.0000\n",
      "Epoch 65/100\n",
      "172/172 [==============================] - 0s 3ms/step - loss: 0.1380 - accuracy: 0.9581 - val_loss: 4.2440e-04 - val_accuracy: 1.0000\n",
      "Epoch 66/100\n",
      "172/172 [==============================] - 0s 2ms/step - loss: 0.1325 - accuracy: 0.9612 - val_loss: 3.9848e-04 - val_accuracy: 1.0000\n",
      "Epoch 67/100\n",
      "172/172 [==============================] - 0s 2ms/step - loss: 0.1180 - accuracy: 0.9644 - val_loss: 1.2180e-04 - val_accuracy: 1.0000\n",
      "Epoch 68/100\n",
      "172/172 [==============================] - 0s 2ms/step - loss: 0.1384 - accuracy: 0.9591 - val_loss: 1.8560e-04 - val_accuracy: 1.0000\n",
      "Epoch 69/100\n",
      "172/172 [==============================] - 0s 3ms/step - loss: 0.1342 - accuracy: 0.9582 - val_loss: 8.0219e-04 - val_accuracy: 1.0000\n",
      "Epoch 70/100\n",
      "172/172 [==============================] - 0s 3ms/step - loss: 0.1355 - accuracy: 0.9590 - val_loss: 3.7229e-04 - val_accuracy: 1.0000\n",
      "Epoch 71/100\n",
      "172/172 [==============================] - 0s 2ms/step - loss: 0.1254 - accuracy: 0.9615 - val_loss: 1.7198e-04 - val_accuracy: 1.0000\n",
      "Epoch 72/100\n",
      "172/172 [==============================] - 0s 2ms/step - loss: 0.1335 - accuracy: 0.9600 - val_loss: 1.4424e-04 - val_accuracy: 1.0000\n",
      "Epoch 73/100\n",
      "172/172 [==============================] - 0s 2ms/step - loss: 0.1281 - accuracy: 0.9619 - val_loss: 3.0134e-04 - val_accuracy: 1.0000\n",
      "Epoch 74/100\n",
      "172/172 [==============================] - 0s 2ms/step - loss: 0.1251 - accuracy: 0.9644 - val_loss: 0.0018 - val_accuracy: 1.0000\n",
      "Epoch 75/100\n",
      "172/172 [==============================] - 0s 3ms/step - loss: 0.1249 - accuracy: 0.9638 - val_loss: 2.5283e-04 - val_accuracy: 1.0000\n",
      "Epoch 76/100\n",
      "172/172 [==============================] - 0s 3ms/step - loss: 0.1358 - accuracy: 0.9594 - val_loss: 1.1532e-04 - val_accuracy: 1.0000\n",
      "Epoch 77/100\n",
      "172/172 [==============================] - 1s 3ms/step - loss: 0.1267 - accuracy: 0.9619 - val_loss: 1.2881e-04 - val_accuracy: 1.0000\n",
      "Epoch 78/100\n",
      "172/172 [==============================] - 1s 3ms/step - loss: 0.1227 - accuracy: 0.9627 - val_loss: 0.0012 - val_accuracy: 1.0000\n",
      "Epoch 79/100\n",
      "172/172 [==============================] - 1s 3ms/step - loss: 0.1291 - accuracy: 0.9610 - val_loss: 1.7159e-04 - val_accuracy: 1.0000\n",
      "Epoch 80/100\n",
      "172/172 [==============================] - 0s 3ms/step - loss: 0.1388 - accuracy: 0.9580 - val_loss: 1.4131e-04 - val_accuracy: 1.0000\n",
      "Epoch 81/100\n",
      "172/172 [==============================] - 0s 2ms/step - loss: 0.1137 - accuracy: 0.9658 - val_loss: 2.4825e-04 - val_accuracy: 1.0000\n",
      "Epoch 82/100\n",
      "172/172 [==============================] - 0s 2ms/step - loss: 0.1164 - accuracy: 0.9645 - val_loss: 2.9153e-04 - val_accuracy: 1.0000\n",
      "Epoch 83/100\n",
      "172/172 [==============================] - 0s 2ms/step - loss: 0.1365 - accuracy: 0.9590 - val_loss: 1.6524e-04 - val_accuracy: 1.0000\n",
      "Epoch 84/100\n",
      "172/172 [==============================] - 0s 2ms/step - loss: 0.1146 - accuracy: 0.9679 - val_loss: 6.6370e-05 - val_accuracy: 1.0000\n",
      "Epoch 85/100\n",
      "172/172 [==============================] - 0s 2ms/step - loss: 0.1277 - accuracy: 0.9613 - val_loss: 4.1083e-04 - val_accuracy: 1.0000\n",
      "Epoch 86/100\n",
      "172/172 [==============================] - 0s 2ms/step - loss: 0.1164 - accuracy: 0.9663 - val_loss: 1.2604e-04 - val_accuracy: 1.0000\n",
      "Epoch 87/100\n",
      "172/172 [==============================] - 0s 2ms/step - loss: 0.1288 - accuracy: 0.9623 - val_loss: 2.0711e-04 - val_accuracy: 1.0000\n",
      "Epoch 88/100\n",
      "172/172 [==============================] - 0s 2ms/step - loss: 0.1149 - accuracy: 0.9673 - val_loss: 7.1966e-04 - val_accuracy: 1.0000\n",
      "Epoch 89/100\n",
      "172/172 [==============================] - 0s 2ms/step - loss: 0.1120 - accuracy: 0.9654 - val_loss: 1.4776e-04 - val_accuracy: 1.0000\n",
      "Epoch 90/100\n",
      "172/172 [==============================] - 0s 2ms/step - loss: 0.1183 - accuracy: 0.9653 - val_loss: 2.9311e-04 - val_accuracy: 1.0000\n",
      "Epoch 91/100\n",
      "172/172 [==============================] - 0s 2ms/step - loss: 0.1205 - accuracy: 0.9659 - val_loss: 1.6272e-04 - val_accuracy: 1.0000\n",
      "Epoch 92/100\n",
      "172/172 [==============================] - 0s 2ms/step - loss: 0.1180 - accuracy: 0.9651 - val_loss: 1.7168e-04 - val_accuracy: 1.0000\n",
      "Epoch 93/100\n",
      "172/172 [==============================] - 0s 2ms/step - loss: 0.1016 - accuracy: 0.9709 - val_loss: 5.1303e-05 - val_accuracy: 1.0000\n",
      "Epoch 94/100\n",
      "172/172 [==============================] - 0s 2ms/step - loss: 0.1170 - accuracy: 0.9651 - val_loss: 5.5618e-04 - val_accuracy: 1.0000\n",
      "Epoch 95/100\n",
      "172/172 [==============================] - 0s 2ms/step - loss: 0.1211 - accuracy: 0.9646 - val_loss: 5.0265e-04 - val_accuracy: 1.0000\n",
      "Epoch 96/100\n",
      "172/172 [==============================] - 0s 2ms/step - loss: 0.1228 - accuracy: 0.9656 - val_loss: 1.7322e-04 - val_accuracy: 1.0000\n",
      "Epoch 97/100\n",
      "172/172 [==============================] - 0s 2ms/step - loss: 0.1191 - accuracy: 0.9649 - val_loss: 4.1949e-04 - val_accuracy: 1.0000\n",
      "Epoch 98/100\n",
      "172/172 [==============================] - 0s 2ms/step - loss: 0.1123 - accuracy: 0.9655 - val_loss: 1.1511e-04 - val_accuracy: 1.0000\n",
      "Epoch 99/100\n",
      "172/172 [==============================] - 0s 2ms/step - loss: 0.1073 - accuracy: 0.9688 - val_loss: 1.0074e-04 - val_accuracy: 1.0000\n",
      "Epoch 100/100\n",
      "172/172 [==============================] - 0s 2ms/step - loss: 0.1204 - accuracy: 0.9637 - val_loss: 1.6340e-04 - val_accuracy: 1.0000\n"
     ]
    }
   ],
   "source": [
    "history = model.fit(x_train, y_train, epochs=num_epochs, batch_size=batch_size, validation_data=(x_test, y_test))"
   ]
  },
  {
   "cell_type": "code",
   "execution_count": 20,
   "id": "27651510-b545-411a-8731-8dc2357c9951",
   "metadata": {},
   "outputs": [
    {
     "data": {
      "text/plain": [
       "<function matplotlib.pyplot.show(close=None, block=None)>"
      ]
     },
     "execution_count": 20,
     "metadata": {},
     "output_type": "execute_result"
    },
    {
     "data": {
      "image/png": "[encoded data removed]",
      "text/plain": [
       "<Figure size 640x480 with 1 Axes>"
      ]
     },
     "metadata": {},
     "output_type": "display_data"
    }
   ],
   "source": [
    "plt.plot(history.history['accuracy'])\n",
    "plt.plot(history.history['val_accuracy'])\n",
    "\n",
    "plt.title(\"Accruacy\")\n",
    "plt.xlabel('epoch')\n",
    "plt.ylabel('accuracy')\n",
    "\n",
    "plt.legend(['train', 'test'])\n",
    "\n",
    "plt.show"
   ]
  },
  {
   "cell_type": "code",
   "execution_count": 21,
   "id": "d5ab497a-d8d8-4874-8014-5d56e0c387af",
   "metadata": {},
   "outputs": [],
   "source": [
    "model.save(\"ASL-detection-model.keras\")"
   ]
  },
  {
   "cell_type": "code",
   "execution_count": null,
   "id": "bf83fd75-3f34-4057-bb50-93950951bad1",
   "metadata": {},
   "outputs": [],
   "source": []
  }
 ],
 "metadata": {
  "kernelspec": {
   "display_name": "Python 3 (ipykernel)",
   "language": "python",
   "name": "python3"
  },
  "language_info": {
   "codemirror_mode": {
    "name": "ipython",
    "version": 3
   },
   "file_extension": ".py",
   "mimetype": "text/x-python",
   "name": "python",
   "nbconvert_exporter": "python",
   "pygments_lexer": "ipython3",
   "version": "3.11.3"
  }
 },
 "nbformat": 4,
 "nbformat_minor": 5
}
