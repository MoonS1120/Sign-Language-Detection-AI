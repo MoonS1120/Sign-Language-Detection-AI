{
 "cells": [
  {
   "cell_type": "code",
   "execution_count": null,
   "id": "09bf4c30-ed5e-4f8d-86fc-9fa4acaedc0f",
   "metadata": {},
   "outputs": [],
   "source": [
    "!pip install opencv-python mediapipe numpy pandas matplotlib seaborn"
   ]
  },
  {
   "cell_type": "code",
   "execution_count": null,
   "id": "a1d079ce-22e3-4550-b3bb-3452e11c316a",
   "metadata": {},
   "outputs": [],
   "source": [
    "import cv2\n",
    "import mediapipe as mp"
   ]
  },
  {
   "cell_type": "code",
   "execution_count": null,
   "id": "99169725-7cbb-45ea-98ea-eb7d2784e2a3",
   "metadata": {},
   "outputs": [],
   "source": [
    "mp_drawing = mp.solutions.drawing_utils\n",
    "mp_hands = mp.solutions.hands"
   ]
  },
  {
   "cell_type": "code",
   "execution_count": null,
   "id": "e795cfa1-aecf-4454-9774-fb388a20cd19",
   "metadata": {},
   "outputs": [],
   "source": [
    "def mediapipe(frame, hands):\n",
    "    frame = cv2.resize(cv2.flip(frame, 1), (640, 480))\n",
    "    image = cv2.cvtColor(frame, cv2.COLOR_BGR2RGB)\n",
    "\n",
    "    image.flags.writeable = False\n",
    "    results = hands.process(image)\n",
    "    image.flags.writeable = True\n",
    "\n",
    "    image = cv2.cvtColor(image, cv2.COLOR_RGB2BGR)\n",
    "\n",
    "    return image, results"
   ]
  },
  {
   "cell_type": "code",
   "execution_count": null,
   "id": "fc18f9f6-da52-4a9b-8c32-59ff4b5d6391",
   "metadata": {},
   "outputs": [],
   "source": [
    "capture = cv2.VideoCapture(0)"
   ]
  },
  {
   "cell_type": "code",
   "execution_count": null,
   "id": "38024b18-102e-498e-b5b7-26efb5b8e60c",
   "metadata": {},
   "outputs": [],
   "source": [
    "with mp_hands.Hands(max_num_hands=1, min_detection_confidence=0.5, min_tracking_confidence=0.5) as hands:\n",
    "    while capture.isOpened():\n",
    "        ret, frame = capture.read()\n",
    "\n",
    "        image, results = mediapipe(frame, hands)\n",
    "\n",
    "        if results.multi_hand_landmarks:\n",
    "            for hand_landmarks in results.multi_hand_landmarks:\n",
    "                mp_drawing.draw_landmarks(\n",
    "                    image, \n",
    "                    hand_landmarks, \n",
    "                    mp_hands.HAND_CONNECTIONS,\n",
    "                )\n",
    "\n",
    "        cv2.imshow(\"Hand Tracking\", image)\n",
    "\n",
    "        if cv2.waitKey(5) & 0xFF == 27:\n",
    "            break\n",
    "\n",
    "    capture.release()\n",
    "    cv2.destroyAllWindows()"
   ]
  },
  {
   "cell_type": "code",
   "execution_count": null,
   "id": "98fcb898-daaf-420e-8ae8-461034bfd8fe",
   "metadata": {},
   "outputs": [],
   "source": [
    "results.multi_hand_landmarks"
   ]
  },
  {
   "cell_type": "code",
   "execution_count": 2,
   "id": "5c0fd15f-43be-4e0b-9a9b-2f7a2416d66e",
   "metadata": {},
   "outputs": [],
   "source": [
    "import numpy as np\n",
    "import pandas as pd\n",
    "import matplotlib.pyplot as plt\n",
    "import seaborn as sns"
   ]
  },
  {
   "cell_type": "code",
   "execution_count": 3,
   "id": "9b361e9e-3416-4cb3-be9c-275f1fa83908",
   "metadata": {},
   "outputs": [],
   "source": [
    "train = pd.read_csv('Dataset/train_data.csv')"
   ]
  },
  {
   "cell_type": "code",
   "execution_count": 4,
   "id": "3ced9d72-c9b6-487c-8e28-06f7246b34fe",
   "metadata": {},
   "outputs": [
    {
     "data": {
      "text/html": [
       "<div>\n",
       "<style scoped>\n",
       "    .dataframe tbody tr th:only-of-type {\n",
       "        vertical-align: middle;\n",
       "    }\n",
       "\n",
       "    .dataframe tbody tr th {\n",
       "        vertical-align: top;\n",
       "    }\n",
       "\n",
       "    .dataframe thead th {\n",
       "        text-align: right;\n",
       "    }\n",
       "</style>\n",
       "<table border=\"1\" class=\"dataframe\">\n",
       "  <thead>\n",
       "    <tr style=\"text-align: right;\">\n",
       "      <th></th>\n",
       "      <th>label</th>\n",
       "      <th>ver.x0</th>\n",
       "      <th>ver.y0</th>\n",
       "      <th>ver.z0</th>\n",
       "      <th>ver.x1</th>\n",
       "      <th>ver.y1</th>\n",
       "      <th>ver.z1</th>\n",
       "      <th>ver.x2</th>\n",
       "      <th>ver.y2</th>\n",
       "      <th>ver.z2</th>\n",
       "      <th>...</th>\n",
       "      <th>ver.z17</th>\n",
       "      <th>ver.x18</th>\n",
       "      <th>ver.y18</th>\n",
       "      <th>ver.z18</th>\n",
       "      <th>ver.x19</th>\n",
       "      <th>ver.y19</th>\n",
       "      <th>ver.z19</th>\n",
       "      <th>ver.x20</th>\n",
       "      <th>ver.y20</th>\n",
       "      <th>ver.z20</th>\n",
       "    </tr>\n",
       "  </thead>\n",
       "  <tbody>\n",
       "    <tr>\n",
       "      <th>0</th>\n",
       "      <td>A</td>\n",
       "      <td>0.278411</td>\n",
       "      <td>0.695334</td>\n",
       "      <td>-6.762847e-07</td>\n",
       "      <td>0.200128</td>\n",
       "      <td>0.620533</td>\n",
       "      <td>-0.022475</td>\n",
       "      <td>0.142370</td>\n",
       "      <td>0.516582</td>\n",
       "      <td>-0.040151</td>\n",
       "      <td>...</td>\n",
       "      <td>-0.049513</td>\n",
       "      <td>0.365731</td>\n",
       "      <td>0.458294</td>\n",
       "      <td>-0.073240</td>\n",
       "      <td>0.357022</td>\n",
       "      <td>0.511900</td>\n",
       "      <td>-0.059459</td>\n",
       "      <td>0.346693</td>\n",
       "      <td>0.564412</td>\n",
       "      <td>-0.040863</td>\n",
       "    </tr>\n",
       "    <tr>\n",
       "      <th>1</th>\n",
       "      <td>A</td>\n",
       "      <td>0.579226</td>\n",
       "      <td>0.760085</td>\n",
       "      <td>-1.479179e-06</td>\n",
       "      <td>0.411217</td>\n",
       "      <td>0.680030</td>\n",
       "      <td>-0.040085</td>\n",
       "      <td>0.265983</td>\n",
       "      <td>0.565985</td>\n",
       "      <td>-0.118771</td>\n",
       "      <td>...</td>\n",
       "      <td>-0.242286</td>\n",
       "      <td>0.591494</td>\n",
       "      <td>0.576435</td>\n",
       "      <td>-0.280686</td>\n",
       "      <td>0.557463</td>\n",
       "      <td>0.594451</td>\n",
       "      <td>-0.267542</td>\n",
       "      <td>0.534894</td>\n",
       "      <td>0.644566</td>\n",
       "      <td>-0.263740</td>\n",
       "    </tr>\n",
       "    <tr>\n",
       "      <th>2</th>\n",
       "      <td>A</td>\n",
       "      <td>0.479878</td>\n",
       "      <td>0.789794</td>\n",
       "      <td>-1.101431e-06</td>\n",
       "      <td>0.379517</td>\n",
       "      <td>0.716278</td>\n",
       "      <td>-0.031272</td>\n",
       "      <td>0.307061</td>\n",
       "      <td>0.580528</td>\n",
       "      <td>-0.051447</td>\n",
       "      <td>...</td>\n",
       "      <td>-0.067705</td>\n",
       "      <td>0.580279</td>\n",
       "      <td>0.515611</td>\n",
       "      <td>-0.106108</td>\n",
       "      <td>0.559661</td>\n",
       "      <td>0.600459</td>\n",
       "      <td>-0.090427</td>\n",
       "      <td>0.554961</td>\n",
       "      <td>0.667288</td>\n",
       "      <td>-0.067013</td>\n",
       "    </tr>\n",
       "    <tr>\n",
       "      <th>3</th>\n",
       "      <td>A</td>\n",
       "      <td>0.475106</td>\n",
       "      <td>0.804069</td>\n",
       "      <td>-1.105380e-06</td>\n",
       "      <td>0.369806</td>\n",
       "      <td>0.720176</td>\n",
       "      <td>-0.034797</td>\n",
       "      <td>0.296779</td>\n",
       "      <td>0.589539</td>\n",
       "      <td>-0.059023</td>\n",
       "      <td>...</td>\n",
       "      <td>-0.075889</td>\n",
       "      <td>0.574916</td>\n",
       "      <td>0.524177</td>\n",
       "      <td>-0.114318</td>\n",
       "      <td>0.557065</td>\n",
       "      <td>0.611504</td>\n",
       "      <td>-0.097624</td>\n",
       "      <td>0.546631</td>\n",
       "      <td>0.681055</td>\n",
       "      <td>-0.074528</td>\n",
       "    </tr>\n",
       "    <tr>\n",
       "      <th>4</th>\n",
       "      <td>A</td>\n",
       "      <td>0.466990</td>\n",
       "      <td>0.802180</td>\n",
       "      <td>-1.071714e-06</td>\n",
       "      <td>0.365610</td>\n",
       "      <td>0.740132</td>\n",
       "      <td>-0.033263</td>\n",
       "      <td>0.292247</td>\n",
       "      <td>0.604434</td>\n",
       "      <td>-0.052462</td>\n",
       "      <td>...</td>\n",
       "      <td>-0.070841</td>\n",
       "      <td>0.566635</td>\n",
       "      <td>0.533698</td>\n",
       "      <td>-0.108298</td>\n",
       "      <td>0.545575</td>\n",
       "      <td>0.618803</td>\n",
       "      <td>-0.092145</td>\n",
       "      <td>0.540315</td>\n",
       "      <td>0.682023</td>\n",
       "      <td>-0.069202</td>\n",
       "    </tr>\n",
       "  </tbody>\n",
       "</table>\n",
       "<p>5 rows × 64 columns</p>\n",
       "</div>"
      ],
      "text/plain": [
       "  label    ver.x0    ver.y0        ver.z0    ver.x1    ver.y1    ver.z1  \\\n",
       "0     A  0.278411  0.695334 -6.762847e-07  0.200128  0.620533 -0.022475   \n",
       "1     A  0.579226  0.760085 -1.479179e-06  0.411217  0.680030 -0.040085   \n",
       "2     A  0.479878  0.789794 -1.101431e-06  0.379517  0.716278 -0.031272   \n",
       "3     A  0.475106  0.804069 -1.105380e-06  0.369806  0.720176 -0.034797   \n",
       "4     A  0.466990  0.802180 -1.071714e-06  0.365610  0.740132 -0.033263   \n",
       "\n",
       "     ver.x2    ver.y2    ver.z2  ...   ver.z17   ver.x18   ver.y18   ver.z18  \\\n",
       "0  0.142370  0.516582 -0.040151  ... -0.049513  0.365731  0.458294 -0.073240   \n",
       "1  0.265983  0.565985 -0.118771  ... -0.242286  0.591494  0.576435 -0.280686   \n",
       "2  0.307061  0.580528 -0.051447  ... -0.067705  0.580279  0.515611 -0.106108   \n",
       "3  0.296779  0.589539 -0.059023  ... -0.075889  0.574916  0.524177 -0.114318   \n",
       "4  0.292247  0.604434 -0.052462  ... -0.070841  0.566635  0.533698 -0.108298   \n",
       "\n",
       "    ver.x19   ver.y19   ver.z19   ver.x20   ver.y20   ver.z20  \n",
       "0  0.357022  0.511900 -0.059459  0.346693  0.564412 -0.040863  \n",
       "1  0.557463  0.594451 -0.267542  0.534894  0.644566 -0.263740  \n",
       "2  0.559661  0.600459 -0.090427  0.554961  0.667288 -0.067013  \n",
       "3  0.557065  0.611504 -0.097624  0.546631  0.681055 -0.074528  \n",
       "4  0.545575  0.618803 -0.092145  0.540315  0.682023 -0.069202  \n",
       "\n",
       "[5 rows x 64 columns]"
      ]
     },
     "execution_count": 4,
     "metadata": {},
     "output_type": "execute_result"
    }
   ],
   "source": [
    "train.head()"
   ]
  },
  {
   "cell_type": "code",
   "execution_count": 5,
   "id": "7ba8b3e7-c221-49d1-8c20-e8ea32595514",
   "metadata": {},
   "outputs": [
    {
     "data": {
      "text/plain": [
       "array(['A', 'B', 'C', 'D', 'E', 'F', 'G', 'H', 'I', 'J', 'K', 'L', 'M',\n",
       "       'N', 'O', 'P', 'Q', 'R', 'S', 'T', 'U', 'V', 'W', 'X', 'Y', 'Z',\n",
       "       'del', 'space'], dtype=object)"
      ]
     },
     "execution_count": 5,
     "metadata": {},
     "output_type": "execute_result"
    }
   ],
   "source": [
    "labels = train['label'].values\n",
    "unique_val = np.array(labels)\n",
    "np.unique(unique_val)"
   ]
  },
  {
   "cell_type": "code",
   "execution_count": 6,
   "id": "dafb2d09-6e76-45e5-8157-d45dd4606b63",
   "metadata": {},
   "outputs": [
    {
     "data": {
      "text/plain": [
       "<Axes: ylabel='count'>"
      ]
     },
     "execution_count": 6,
     "metadata": {},
     "output_type": "execute_result"
    },
    {
     "data": {
      "image/png": "[encoded data removed]",
      "text/plain": [
       "<Figure size 640x480 with 1 Axes>"
      ]
     },
     "metadata": {},
     "output_type": "display_data"
    }
   ],
   "source": [
    "plt.figure()\n",
    "sns.countplot(x = labels)"
   ]
  }
 ],
 "metadata": {
  "kernelspec": {
   "display_name": "Python 3 (ipykernel)",
   "language": "python",
   "name": "python3"
  },
  "language_info": {
   "codemirror_mode": {
    "name": "ipython",
    "version": 3
   },
   "file_extension": ".py",
   "mimetype": "text/x-python",
   "name": "python",
   "nbconvert_exporter": "python",
   "pygments_lexer": "ipython3",
   "version": "3.11.3"
  }
 },
 "nbformat": 4,
 "nbformat_minor": 5
}
